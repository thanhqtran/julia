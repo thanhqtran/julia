{
 "cells": [
  {
   "cell_type": "code",
   "execution_count": 21,
   "metadata": {},
   "outputs": [
    {
     "name": "stdout",
     "output_type": "stream",
     "text": [
      "10 9 8 7 6 5 4 3 2 1 Blast off\n"
     ]
    }
   ],
   "source": [
    "function countdown(n)\n",
    "    while n > 0\n",
    "        print(n, \" \")\n",
    "        n = n-1 \n",
    "    end \n",
    "    println(\"Blast off\")\n",
    "end \n",
    "\n",
    "countdown(10)"
   ]
  },
  {
   "cell_type": "code",
   "execution_count": 30,
   "metadata": {},
   "outputs": [
    {
     "name": "stdout",
     "output_type": "stream",
     "text": [
      "64\n",
      "[2, 2]\n"
     ]
    }
   ],
   "source": [
    "x = 4^3\n",
    "println(x)\n",
    "y = [2]\n",
    "k = 2\n",
    "push!(y, k)\n",
    "println(y)"
   ]
  },
  {
   "cell_type": "code",
   "execution_count": null,
   "metadata": {},
   "outputs": [],
   "source": [
    "# Newton's method to approximate square root\n",
    "import Pkg; Pkg.add(\"Distributions\")\n",
    "using Random, Distributions\n",
    "\n",
    "function mysqrt(a)\n",
    "    x = rand()\n",
    "    println(x)\n",
    "    while true     \n",
    "        y = 0.5*(x + x/a)\n",
    "        if abs(y - x) < 0.01\n",
    "            break \n",
    "        end\n",
    "        global x = y\n",
    "    end\n",
    "end\n",
    "\n",
    "mysqrt(5)"
   ]
  },
  {
   "cell_type": "code",
   "execution_count": 47,
   "metadata": {},
   "outputs": [
    {
     "name": "stderr",
     "output_type": "stream",
     "text": [
      "\u001b[32m\u001b[1m    Building\u001b[22m\u001b[39m GR → `~/.julia/scratchspaces/44cfe95a-1eb2-52ea-b672-e2afdf69b78f/7ea6f715b7caa10d7ee16f1cfcd12f3ccc74116a/build.log`\n"
     ]
    }
   ],
   "source": [
    "ENV[\"GRDIR\"]=\"\"; Pkg.build(\"GR\")"
   ]
  },
  {
   "cell_type": "code",
   "execution_count": 48,
   "metadata": {},
   "outputs": [
    {
     "name": "stderr",
     "output_type": "stream",
     "text": [
      "\u001b[32m\u001b[1m   Resolving\u001b[22m\u001b[39m package versions...\n",
      "\u001b[32m\u001b[1m  No Changes\u001b[22m\u001b[39m to `~/.julia/environments/v1.7/Project.toml`\n",
      "\u001b[32m\u001b[1m  No Changes\u001b[22m\u001b[39m to `~/.julia/environments/v1.7/Manifest.toml`\n"
     ]
    },
    {
     "ename": "ErrorException",
     "evalue": "could not load library \"libGR.so\"\ndlopen(libGR.so.dylib, 0x0001): tried: 'libGR.so.dylib' (no such file), '/System/Volumes/Preboot/Cryptexes/OSlibGR.so.dylib' (no such file), '/Applications/Julia-1.7.app/Contents/Resources/julia/lib/julia/libGR.so.dylib' (no such file), '/Applications/Julia-1.7.app/Contents/Resources/julia/lib/libGR.so.dylib' (no such file), '/usr/lib/libGR.so.dylib' (no such file, not in dyld cache), 'libGR.so.dylib' (no such file), '/usr/local/lib/libGR.so.dylib' (no such file), '/usr/lib/libGR.so.dylib' (no such file, not in dyld cache)",
     "output_type": "error",
     "traceback": [
      "could not load library \"libGR.so\"\n",
      "dlopen(libGR.so.dylib, 0x0001): tried: 'libGR.so.dylib' (no such file), '/System/Volumes/Preboot/Cryptexes/OSlibGR.so.dylib' (no such file), '/Applications/Julia-1.7.app/Contents/Resources/julia/lib/julia/libGR.so.dylib' (no such file), '/Applications/Julia-1.7.app/Contents/Resources/julia/lib/libGR.so.dylib' (no such file), '/usr/lib/libGR.so.dylib' (no such file, not in dyld cache), 'libGR.so.dylib' (no such file), '/usr/local/lib/libGR.so.dylib' (no such file), '/usr/lib/libGR.so.dylib' (no such file, not in dyld cache)\n",
      "\n",
      "Stacktrace:\n",
      "  [1] setcharheight\n",
      "    @ ~/.julia/packages/GR/yMV3y/src/GR.jl:1273 [inlined]\n",
      "  [2] gr_set_font(f::Plots.Font; halign::Symbol, valign::Symbol, color::RGB{FixedPointNumbers.N0f8}, rotation::Int64)\n",
      "    @ Plots ~/.julia/packages/Plots/8GUYs/src/backends/gr.jl:394\n",
      "  [3] gr_set_xticks_font(sp::Plots.Subplot{Plots.GRBackend})\n",
      "    @ Plots ~/.julia/packages/Plots/8GUYs/src/backends/gr.jl:733\n",
      "  [4] _update_min_padding!(sp::Plots.Subplot{Plots.GRBackend})\n",
      "    @ Plots ~/.julia/packages/Plots/8GUYs/src/backends/gr.jl:928\n",
      "  [5] iterate\n",
      "    @ ./generator.jl:47 [inlined]\n",
      "  [6] _collect(c::Matrix{AbstractLayout}, itr::Base.Generator{Matrix{AbstractLayout}, typeof(Plots._update_min_padding!)}, #unused#::Base.EltypeUnknown, isz::Base.HasShape{2})\n",
      "    @ Base ./array.jl:744\n",
      "  [7] collect_similar\n",
      "    @ ./array.jl:653 [inlined]\n",
      "  [8] map\n",
      "    @ ./abstractarray.jl:2849 [inlined]\n",
      "  [9] _update_min_padding!(layout::Plots.GridLayout)\n",
      "    @ Plots ~/.julia/packages/Plots/8GUYs/src/layouts.jl:310\n",
      " [10] prepare_output(plt::Plots.Plot{Plots.GRBackend})\n",
      "    @ Plots ~/.julia/packages/Plots/8GUYs/src/plot.jl:184\n",
      " [11] show(io::IOContext{IOBuffer}, m::MIME{Symbol(\"text/plain\")}, plt::Plots.Plot{Plots.GRBackend})\n",
      "    @ Plots ~/.julia/packages/Plots/8GUYs/src/output.jl:214\n",
      " [12] limitstringmime(mime::MIME{Symbol(\"text/plain\")}, x::Plots.Plot{Plots.GRBackend})\n",
      "    @ VSCodeServer.IJuliaCore ~/.vscode/extensions/julialang.language-julia-1.38.2/scripts/packages/IJuliaCore/src/inline.jl:22\n",
      " [13] display_mimestring\n",
      "    @ ~/.vscode/extensions/julialang.language-julia-1.38.2/scripts/packages/IJuliaCore/src/display.jl:67 [inlined]\n",
      " [14] display_dict(x::Plots.Plot{Plots.GRBackend})\n",
      "    @ VSCodeServer.IJuliaCore ~/.vscode/extensions/julialang.language-julia-1.38.2/scripts/packages/IJuliaCore/src/display.jl:98\n",
      " [15] display(#unused#::VSCodeServer.JuliaNotebookInlineDisplay, x::Plots.Plot{Plots.GRBackend})\n",
      "    @ VSCodeServer ~/.vscode/extensions/julialang.language-julia-1.38.2/scripts/packages/VSCodeServer/src/notebookdisplay.jl:32\n",
      " [16] display(x::Any)\n",
      "    @ Base.Multimedia ./multimedia.jl:328\n",
      " [17] #invokelatest#2\n",
      "    @ ./essentials.jl:716 [inlined]\n",
      " [18] invokelatest\n",
      "    @ ./essentials.jl:714 [inlined]\n",
      " [19] (::VSCodeServer.var\"#198#199\"{VSCodeServer.NotebookRunCellArguments, String})()\n",
      "    @ VSCodeServer ~/.vscode/extensions/julialang.language-julia-1.38.2/scripts/packages/VSCodeServer/src/serve_notebook.jl:48\n",
      " [20] withpath(f::VSCodeServer.var\"#198#199\"{VSCodeServer.NotebookRunCellArguments, String}, path::String)\n",
      "    @ VSCodeServer ~/.vscode/extensions/julialang.language-julia-1.38.2/scripts/packages/VSCodeServer/src/repl.jl:249\n",
      " [21] notebook_runcell_request(conn::VSCodeServer.JSONRPC.JSONRPCEndpoint{Base.PipeEndpoint, Base.PipeEndpoint}, params::VSCodeServer.NotebookRunCellArguments)\n",
      "    @ VSCodeServer ~/.vscode/extensions/julialang.language-julia-1.38.2/scripts/packages/VSCodeServer/src/serve_notebook.jl:13\n",
      " [22] dispatch_msg(x::VSCodeServer.JSONRPC.JSONRPCEndpoint{Base.PipeEndpoint, Base.PipeEndpoint}, dispatcher::VSCodeServer.JSONRPC.MsgDispatcher, msg::Dict{String, Any})\n",
      "    @ VSCodeServer.JSONRPC ~/.vscode/extensions/julialang.language-julia-1.38.2/scripts/packages/JSONRPC/src/typed.jl:67\n",
      " [23] serve_notebook(pipename::String, outputchannel_logger::Base.CoreLogging.SimpleLogger; crashreporting_pipename::String)\n",
      "    @ VSCodeServer ~/.vscode/extensions/julialang.language-julia-1.38.2/scripts/packages/VSCodeServer/src/serve_notebook.jl:139\n",
      " [24] top-level scope\n",
      "    @ ~/.vscode/extensions/julialang.language-julia-1.38.2/scripts/notebook/notebook.jl:32"
     ]
    }
   ],
   "source": [
    "# Simple Solow model\n",
    "using Plots \n",
    "\n",
    "function solow_model(k0)\n",
    "    # parameters\n",
    "    alpha = 0.3 \n",
    "    A = 10\n",
    "    d = 0.05\n",
    "    n = 0.02\n",
    "    s = 0.3\n",
    "    # initiation\n",
    "    k = k0\n",
    "    y = A*k0^alpha\n",
    "    # results\n",
    "    k_arr = Float64[k]\n",
    "    y_arr = Float64[y]\n",
    "    i_arr = Float64[1]\n",
    "    # dynamics\n",
    "    for i in 2:30\n",
    "        k = (s*A*(k^alpha) + (1-d)*k)/(1+n)\n",
    "        y = A*k^alpha \n",
    "        push!(k_arr, k)\n",
    "        push!(y_arr, y)\n",
    "        push!(i_arr, i)\n",
    "    end\n",
    "    return k_arr\n",
    "end \n",
    "\n",
    "kmatrix = solow_model(10)\n",
    "\n",
    "periods = [i for i in 1:30]\n",
    "plot(periods, kmatrix)"
   ]
  }
 ],
 "metadata": {
  "kernelspec": {
   "display_name": "Julia 1.7.1",
   "language": "julia",
   "name": "julia-1.7"
  },
  "language_info": {
   "file_extension": ".jl",
   "mimetype": "application/julia",
   "name": "julia",
   "version": "1.7.1"
  },
  "orig_nbformat": 4
 },
 "nbformat": 4,
 "nbformat_minor": 2
}
